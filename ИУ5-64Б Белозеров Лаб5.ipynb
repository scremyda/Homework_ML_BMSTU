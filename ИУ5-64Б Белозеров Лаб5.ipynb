{
  "cells": [
    {
      "cell_type": "markdown",
      "id": "5477d9f4",
      "metadata": {
        "id": "5477d9f4"
      },
      "source": [
        "# Лабораторная работа №5: \"Ансамбли моделей машинного обучения\"."
      ]
    },
    {
      "cell_type": "markdown",
      "id": "6a0881bd",
      "metadata": {
        "id": "6a0881bd"
      },
      "source": [
        "## Загрузка датасета"
      ]
    },
    {
      "cell_type": "code",
      "execution_count": null,
      "id": "bc7856d9",
      "metadata": {
        "id": "bc7856d9"
      },
      "outputs": [],
      "source": [
        "#!pip install heamy\n",
        "import pandas as pd\n",
        "import seaborn as sns\n",
        "import matplotlib.pyplot as plt\n",
        "import numpy as np\n",
        "from sklearn.preprocessing import PolynomialFeatures, MinMaxScaler, StandardScaler\n",
        "from sklearn.linear_model import LinearRegression\n",
        "from sklearn.metrics import r2_score, mean_squared_error, mean_absolute_error\n",
        "from sklearn.model_selection import train_test_split, GridSearchCV\n",
        "from sklearn.ensemble import RandomForestRegressor, GradientBoostingRegressor, AdaBoostRegressor\n",
        "from heamy.estimator import Regressor\n",
        "from heamy.pipeline import ModelsPipeline\n",
        "from heamy.dataset import Dataset\n",
        "from sklearn.neural_network import MLPRegressor\n",
        "from warnings import simplefilter\n",
        "\n",
        "simplefilter('ignore')"
      ]
    },
    {
      "cell_type": "code",
      "execution_count": null,
      "id": "306c64cb",
      "metadata": {
        "colab": {
          "base_uri": "https://localhost:8080/",
          "height": 273
        },
        "id": "306c64cb",
        "scrolled": false,
        "outputId": "bb7ac798-5f3f-49c6-823c-90c578c962cd"
      },
      "outputs": [
        {
          "output_type": "execute_result",
          "data": {
            "text/plain": [
              "   Unnamed: 0  Year  Kilometers_Driven  Mileage  Engine   Power  Seats  Price  \\\n",
              "0           0  2010              72000    26.60     998   58.16    5.0   1.75   \n",
              "1           1  2015              41000    19.67    1582  126.20    5.0  12.50   \n",
              "2           2  2011              46000    18.20    1199   88.70    5.0   4.50   \n",
              "3           3  2012              87000    20.77    1248   88.76    7.0   6.00   \n",
              "4           4  2013              40670    15.20    1968  140.80    5.0  17.74   \n",
              "\n",
              "   Location_Ahmedabad  Location_Bangalore  ...  Fuel_Type_CNG  \\\n",
              "0                   0                   0  ...              1   \n",
              "1                   0                   0  ...              0   \n",
              "2                   0                   0  ...              0   \n",
              "3                   0                   0  ...              0   \n",
              "4                   0                   0  ...              0   \n",
              "\n",
              "   Fuel_Type_Diesel  Fuel_Type_LPG  Fuel_Type_Petrol  Transmission_Automatic  \\\n",
              "0                 0              0                 0                       0   \n",
              "1                 1              0                 0                       0   \n",
              "2                 0              0                 1                       0   \n",
              "3                 1              0                 0                       0   \n",
              "4                 1              0                 0                       1   \n",
              "\n",
              "   Transmission_Manual  Owner_Type_First  Owner_Type_Fourth & Above  \\\n",
              "0                    1                 1                          0   \n",
              "1                    1                 1                          0   \n",
              "2                    1                 1                          0   \n",
              "3                    1                 1                          0   \n",
              "4                    0                 0                          0   \n",
              "\n",
              "   Owner_Type_Second  Owner_Type_Third  \n",
              "0                  0                 0  \n",
              "1                  0                 0  \n",
              "2                  0                 0  \n",
              "3                  0                 0  \n",
              "4                  1                 0  \n",
              "\n",
              "[5 rows x 29 columns]"
            ],
            "text/html": [
              "\n",
              "  <div id=\"df-8c2e8bab-991e-42d1-8490-9b35fce8e702\" class=\"colab-df-container\">\n",
              "    <div>\n",
              "<style scoped>\n",
              "    .dataframe tbody tr th:only-of-type {\n",
              "        vertical-align: middle;\n",
              "    }\n",
              "\n",
              "    .dataframe tbody tr th {\n",
              "        vertical-align: top;\n",
              "    }\n",
              "\n",
              "    .dataframe thead th {\n",
              "        text-align: right;\n",
              "    }\n",
              "</style>\n",
              "<table border=\"1\" class=\"dataframe\">\n",
              "  <thead>\n",
              "    <tr style=\"text-align: right;\">\n",
              "      <th></th>\n",
              "      <th>Unnamed: 0</th>\n",
              "      <th>Year</th>\n",
              "      <th>Kilometers_Driven</th>\n",
              "      <th>Mileage</th>\n",
              "      <th>Engine</th>\n",
              "      <th>Power</th>\n",
              "      <th>Seats</th>\n",
              "      <th>Price</th>\n",
              "      <th>Location_Ahmedabad</th>\n",
              "      <th>Location_Bangalore</th>\n",
              "      <th>...</th>\n",
              "      <th>Fuel_Type_CNG</th>\n",
              "      <th>Fuel_Type_Diesel</th>\n",
              "      <th>Fuel_Type_LPG</th>\n",
              "      <th>Fuel_Type_Petrol</th>\n",
              "      <th>Transmission_Automatic</th>\n",
              "      <th>Transmission_Manual</th>\n",
              "      <th>Owner_Type_First</th>\n",
              "      <th>Owner_Type_Fourth &amp; Above</th>\n",
              "      <th>Owner_Type_Second</th>\n",
              "      <th>Owner_Type_Third</th>\n",
              "    </tr>\n",
              "  </thead>\n",
              "  <tbody>\n",
              "    <tr>\n",
              "      <th>0</th>\n",
              "      <td>0</td>\n",
              "      <td>2010</td>\n",
              "      <td>72000</td>\n",
              "      <td>26.60</td>\n",
              "      <td>998</td>\n",
              "      <td>58.16</td>\n",
              "      <td>5.0</td>\n",
              "      <td>1.75</td>\n",
              "      <td>0</td>\n",
              "      <td>0</td>\n",
              "      <td>...</td>\n",
              "      <td>1</td>\n",
              "      <td>0</td>\n",
              "      <td>0</td>\n",
              "      <td>0</td>\n",
              "      <td>0</td>\n",
              "      <td>1</td>\n",
              "      <td>1</td>\n",
              "      <td>0</td>\n",
              "      <td>0</td>\n",
              "      <td>0</td>\n",
              "    </tr>\n",
              "    <tr>\n",
              "      <th>1</th>\n",
              "      <td>1</td>\n",
              "      <td>2015</td>\n",
              "      <td>41000</td>\n",
              "      <td>19.67</td>\n",
              "      <td>1582</td>\n",
              "      <td>126.20</td>\n",
              "      <td>5.0</td>\n",
              "      <td>12.50</td>\n",
              "      <td>0</td>\n",
              "      <td>0</td>\n",
              "      <td>...</td>\n",
              "      <td>0</td>\n",
              "      <td>1</td>\n",
              "      <td>0</td>\n",
              "      <td>0</td>\n",
              "      <td>0</td>\n",
              "      <td>1</td>\n",
              "      <td>1</td>\n",
              "      <td>0</td>\n",
              "      <td>0</td>\n",
              "      <td>0</td>\n",
              "    </tr>\n",
              "    <tr>\n",
              "      <th>2</th>\n",
              "      <td>2</td>\n",
              "      <td>2011</td>\n",
              "      <td>46000</td>\n",
              "      <td>18.20</td>\n",
              "      <td>1199</td>\n",
              "      <td>88.70</td>\n",
              "      <td>5.0</td>\n",
              "      <td>4.50</td>\n",
              "      <td>0</td>\n",
              "      <td>0</td>\n",
              "      <td>...</td>\n",
              "      <td>0</td>\n",
              "      <td>0</td>\n",
              "      <td>0</td>\n",
              "      <td>1</td>\n",
              "      <td>0</td>\n",
              "      <td>1</td>\n",
              "      <td>1</td>\n",
              "      <td>0</td>\n",
              "      <td>0</td>\n",
              "      <td>0</td>\n",
              "    </tr>\n",
              "    <tr>\n",
              "      <th>3</th>\n",
              "      <td>3</td>\n",
              "      <td>2012</td>\n",
              "      <td>87000</td>\n",
              "      <td>20.77</td>\n",
              "      <td>1248</td>\n",
              "      <td>88.76</td>\n",
              "      <td>7.0</td>\n",
              "      <td>6.00</td>\n",
              "      <td>0</td>\n",
              "      <td>0</td>\n",
              "      <td>...</td>\n",
              "      <td>0</td>\n",
              "      <td>1</td>\n",
              "      <td>0</td>\n",
              "      <td>0</td>\n",
              "      <td>0</td>\n",
              "      <td>1</td>\n",
              "      <td>1</td>\n",
              "      <td>0</td>\n",
              "      <td>0</td>\n",
              "      <td>0</td>\n",
              "    </tr>\n",
              "    <tr>\n",
              "      <th>4</th>\n",
              "      <td>4</td>\n",
              "      <td>2013</td>\n",
              "      <td>40670</td>\n",
              "      <td>15.20</td>\n",
              "      <td>1968</td>\n",
              "      <td>140.80</td>\n",
              "      <td>5.0</td>\n",
              "      <td>17.74</td>\n",
              "      <td>0</td>\n",
              "      <td>0</td>\n",
              "      <td>...</td>\n",
              "      <td>0</td>\n",
              "      <td>1</td>\n",
              "      <td>0</td>\n",
              "      <td>0</td>\n",
              "      <td>1</td>\n",
              "      <td>0</td>\n",
              "      <td>0</td>\n",
              "      <td>0</td>\n",
              "      <td>1</td>\n",
              "      <td>0</td>\n",
              "    </tr>\n",
              "  </tbody>\n",
              "</table>\n",
              "<p>5 rows × 29 columns</p>\n",
              "</div>\n",
              "    <div class=\"colab-df-buttons\">\n",
              "\n",
              "  <div class=\"colab-df-container\">\n",
              "    <button class=\"colab-df-convert\" onclick=\"convertToInteractive('df-8c2e8bab-991e-42d1-8490-9b35fce8e702')\"\n",
              "            title=\"Convert this dataframe to an interactive table.\"\n",
              "            style=\"display:none;\">\n",
              "\n",
              "  <svg xmlns=\"http://www.w3.org/2000/svg\" height=\"24px\" viewBox=\"0 -960 960 960\">\n",
              "    <path d=\"M120-120v-720h720v720H120Zm60-500h600v-160H180v160Zm220 220h160v-160H400v160Zm0 220h160v-160H400v160ZM180-400h160v-160H180v160Zm440 0h160v-160H620v160ZM180-180h160v-160H180v160Zm440 0h160v-160H620v160Z\"/>\n",
              "  </svg>\n",
              "    </button>\n",
              "\n",
              "  <style>\n",
              "    .colab-df-container {\n",
              "      display:flex;\n",
              "      gap: 12px;\n",
              "    }\n",
              "\n",
              "    .colab-df-convert {\n",
              "      background-color: #E8F0FE;\n",
              "      border: none;\n",
              "      border-radius: 50%;\n",
              "      cursor: pointer;\n",
              "      display: none;\n",
              "      fill: #1967D2;\n",
              "      height: 32px;\n",
              "      padding: 0 0 0 0;\n",
              "      width: 32px;\n",
              "    }\n",
              "\n",
              "    .colab-df-convert:hover {\n",
              "      background-color: #E2EBFA;\n",
              "      box-shadow: 0px 1px 2px rgba(60, 64, 67, 0.3), 0px 1px 3px 1px rgba(60, 64, 67, 0.15);\n",
              "      fill: #174EA6;\n",
              "    }\n",
              "\n",
              "    .colab-df-buttons div {\n",
              "      margin-bottom: 4px;\n",
              "    }\n",
              "\n",
              "    [theme=dark] .colab-df-convert {\n",
              "      background-color: #3B4455;\n",
              "      fill: #D2E3FC;\n",
              "    }\n",
              "\n",
              "    [theme=dark] .colab-df-convert:hover {\n",
              "      background-color: #434B5C;\n",
              "      box-shadow: 0px 1px 3px 1px rgba(0, 0, 0, 0.15);\n",
              "      filter: drop-shadow(0px 1px 2px rgba(0, 0, 0, 0.3));\n",
              "      fill: #FFFFFF;\n",
              "    }\n",
              "  </style>\n",
              "\n",
              "    <script>\n",
              "      const buttonEl =\n",
              "        document.querySelector('#df-8c2e8bab-991e-42d1-8490-9b35fce8e702 button.colab-df-convert');\n",
              "      buttonEl.style.display =\n",
              "        google.colab.kernel.accessAllowed ? 'block' : 'none';\n",
              "\n",
              "      async function convertToInteractive(key) {\n",
              "        const element = document.querySelector('#df-8c2e8bab-991e-42d1-8490-9b35fce8e702');\n",
              "        const dataTable =\n",
              "          await google.colab.kernel.invokeFunction('convertToInteractive',\n",
              "                                                    [key], {});\n",
              "        if (!dataTable) return;\n",
              "\n",
              "        const docLinkHtml = 'Like what you see? Visit the ' +\n",
              "          '<a target=\"_blank\" href=https://colab.research.google.com/notebooks/data_table.ipynb>data table notebook</a>'\n",
              "          + ' to learn more about interactive tables.';\n",
              "        element.innerHTML = '';\n",
              "        dataTable['output_type'] = 'display_data';\n",
              "        await google.colab.output.renderOutput(dataTable, element);\n",
              "        const docLink = document.createElement('div');\n",
              "        docLink.innerHTML = docLinkHtml;\n",
              "        element.appendChild(docLink);\n",
              "      }\n",
              "    </script>\n",
              "  </div>\n",
              "\n",
              "\n",
              "<div id=\"df-016bd69b-5df5-4ff2-a3a9-239cbfd86984\">\n",
              "  <button class=\"colab-df-quickchart\" onclick=\"quickchart('df-016bd69b-5df5-4ff2-a3a9-239cbfd86984')\"\n",
              "            title=\"Suggest charts\"\n",
              "            style=\"display:none;\">\n",
              "\n",
              "<svg xmlns=\"http://www.w3.org/2000/svg\" height=\"24px\"viewBox=\"0 0 24 24\"\n",
              "     width=\"24px\">\n",
              "    <g>\n",
              "        <path d=\"M19 3H5c-1.1 0-2 .9-2 2v14c0 1.1.9 2 2 2h14c1.1 0 2-.9 2-2V5c0-1.1-.9-2-2-2zM9 17H7v-7h2v7zm4 0h-2V7h2v10zm4 0h-2v-4h2v4z\"/>\n",
              "    </g>\n",
              "</svg>\n",
              "  </button>\n",
              "\n",
              "<style>\n",
              "  .colab-df-quickchart {\n",
              "      --bg-color: #E8F0FE;\n",
              "      --fill-color: #1967D2;\n",
              "      --hover-bg-color: #E2EBFA;\n",
              "      --hover-fill-color: #174EA6;\n",
              "      --disabled-fill-color: #AAA;\n",
              "      --disabled-bg-color: #DDD;\n",
              "  }\n",
              "\n",
              "  [theme=dark] .colab-df-quickchart {\n",
              "      --bg-color: #3B4455;\n",
              "      --fill-color: #D2E3FC;\n",
              "      --hover-bg-color: #434B5C;\n",
              "      --hover-fill-color: #FFFFFF;\n",
              "      --disabled-bg-color: #3B4455;\n",
              "      --disabled-fill-color: #666;\n",
              "  }\n",
              "\n",
              "  .colab-df-quickchart {\n",
              "    background-color: var(--bg-color);\n",
              "    border: none;\n",
              "    border-radius: 50%;\n",
              "    cursor: pointer;\n",
              "    display: none;\n",
              "    fill: var(--fill-color);\n",
              "    height: 32px;\n",
              "    padding: 0;\n",
              "    width: 32px;\n",
              "  }\n",
              "\n",
              "  .colab-df-quickchart:hover {\n",
              "    background-color: var(--hover-bg-color);\n",
              "    box-shadow: 0 1px 2px rgba(60, 64, 67, 0.3), 0 1px 3px 1px rgba(60, 64, 67, 0.15);\n",
              "    fill: var(--button-hover-fill-color);\n",
              "  }\n",
              "\n",
              "  .colab-df-quickchart-complete:disabled,\n",
              "  .colab-df-quickchart-complete:disabled:hover {\n",
              "    background-color: var(--disabled-bg-color);\n",
              "    fill: var(--disabled-fill-color);\n",
              "    box-shadow: none;\n",
              "  }\n",
              "\n",
              "  .colab-df-spinner {\n",
              "    border: 2px solid var(--fill-color);\n",
              "    border-color: transparent;\n",
              "    border-bottom-color: var(--fill-color);\n",
              "    animation:\n",
              "      spin 1s steps(1) infinite;\n",
              "  }\n",
              "\n",
              "  @keyframes spin {\n",
              "    0% {\n",
              "      border-color: transparent;\n",
              "      border-bottom-color: var(--fill-color);\n",
              "      border-left-color: var(--fill-color);\n",
              "    }\n",
              "    20% {\n",
              "      border-color: transparent;\n",
              "      border-left-color: var(--fill-color);\n",
              "      border-top-color: var(--fill-color);\n",
              "    }\n",
              "    30% {\n",
              "      border-color: transparent;\n",
              "      border-left-color: var(--fill-color);\n",
              "      border-top-color: var(--fill-color);\n",
              "      border-right-color: var(--fill-color);\n",
              "    }\n",
              "    40% {\n",
              "      border-color: transparent;\n",
              "      border-right-color: var(--fill-color);\n",
              "      border-top-color: var(--fill-color);\n",
              "    }\n",
              "    60% {\n",
              "      border-color: transparent;\n",
              "      border-right-color: var(--fill-color);\n",
              "    }\n",
              "    80% {\n",
              "      border-color: transparent;\n",
              "      border-right-color: var(--fill-color);\n",
              "      border-bottom-color: var(--fill-color);\n",
              "    }\n",
              "    90% {\n",
              "      border-color: transparent;\n",
              "      border-bottom-color: var(--fill-color);\n",
              "    }\n",
              "  }\n",
              "</style>\n",
              "\n",
              "  <script>\n",
              "    async function quickchart(key) {\n",
              "      const quickchartButtonEl =\n",
              "        document.querySelector('#' + key + ' button');\n",
              "      quickchartButtonEl.disabled = true;  // To prevent multiple clicks.\n",
              "      quickchartButtonEl.classList.add('colab-df-spinner');\n",
              "      try {\n",
              "        const charts = await google.colab.kernel.invokeFunction(\n",
              "            'suggestCharts', [key], {});\n",
              "      } catch (error) {\n",
              "        console.error('Error during call to suggestCharts:', error);\n",
              "      }\n",
              "      quickchartButtonEl.classList.remove('colab-df-spinner');\n",
              "      quickchartButtonEl.classList.add('colab-df-quickchart-complete');\n",
              "    }\n",
              "    (() => {\n",
              "      let quickchartButtonEl =\n",
              "        document.querySelector('#df-016bd69b-5df5-4ff2-a3a9-239cbfd86984 button');\n",
              "      quickchartButtonEl.style.display =\n",
              "        google.colab.kernel.accessAllowed ? 'block' : 'none';\n",
              "    })();\n",
              "  </script>\n",
              "</div>\n",
              "    </div>\n",
              "  </div>\n"
            ],
            "application/vnd.google.colaboratory.intrinsic+json": {
              "type": "dataframe",
              "variable_name": "data"
            }
          },
          "metadata": {},
          "execution_count": 4
        }
      ],
      "source": [
        "data = pd.read_csv('cars_price_2_processed.csv')\n",
        "data.head()"
      ]
    },
    {
      "cell_type": "markdown",
      "id": "d796d609",
      "metadata": {
        "id": "d796d609"
      },
      "source": [
        "## Корреляционный анализ"
      ]
    },
    {
      "cell_type": "code",
      "execution_count": null,
      "id": "76ea5f2e",
      "metadata": {
        "colab": {
          "base_uri": "https://localhost:8080/"
        },
        "id": "76ea5f2e",
        "outputId": "9a4251c6-11a4-4637-cd77-897247d7bcbc"
      },
      "outputs": [
        {
          "output_type": "stream",
          "name": "stdout",
          "text": [
            "Признаки, имеющие максимальную по модулю корреляцию с ценой автомобиля\n"
          ]
        },
        {
          "output_type": "execute_result",
          "data": {
            "text/plain": [
              "Power                     0.772843\n",
              "Engine                    0.658047\n",
              "Transmission_Automatic    0.585623\n",
              "Transmission_Manual       0.585623\n",
              "Mileage                   0.341652\n",
              "Fuel_Type_Diesel          0.321035\n",
              "Fuel_Type_Petrol          0.309363\n",
              "Name: Price, dtype: float64"
            ]
          },
          "metadata": {},
          "execution_count": 5
        }
      ],
      "source": [
        "print('Признаки, имеющие максимальную по модулю корреляцию с ценой автомобиля')\n",
        "best_params = data.corr()['Price'].map(abs).sort_values(ascending=False)[1:]\n",
        "best_params = best_params[best_params.values > 0.3]\n",
        "best_params"
      ]
    },
    {
      "cell_type": "code",
      "execution_count": null,
      "id": "0d7d47f0",
      "metadata": {
        "colab": {
          "base_uri": "https://localhost:8080/",
          "height": 682
        },
        "id": "0d7d47f0",
        "outputId": "ce118b8f-962f-49b0-c7de-e4e388260953"
      },
      "outputs": [
        {
          "output_type": "display_data",
          "data": {
            "text/plain": [
              "<Figure size 1400x600 with 2 Axes>"
            ],
            "image/png": "[encoded data removed]"
          },
          "metadata": {}
        }
      ],
      "source": [
        "plt.figure(figsize=(14, 6))\n",
        "sns.heatmap(data[best_params.index].corr(), vmin=-1, vmax=1, cmap='coolwarm', annot=True)\n",
        "plt.show()"
      ]
    },
    {
      "cell_type": "code",
      "execution_count": null,
      "id": "c7e20c30",
      "metadata": {
        "id": "c7e20c30"
      },
      "outputs": [],
      "source": [
        "best_params = best_params.drop(['Engine', 'Transmission_Manual', 'Fuel_Type_Petrol'])"
      ]
    },
    {
      "cell_type": "code",
      "execution_count": null,
      "id": "da038c63",
      "metadata": {
        "colab": {
          "base_uri": "https://localhost:8080/",
          "height": 374
        },
        "id": "da038c63",
        "outputId": "f2315aee-dfc4-444b-9a37-fa78cac084e8"
      },
      "outputs": [
        {
          "output_type": "display_data",
          "data": {
            "text/plain": [
              "<Figure size 800x400 with 2 Axes>"
            ],
            "image/png": "[encoded data removed]"
          },
          "metadata": {}
        }
      ],
      "source": [
        "plt.figure(figsize=(8, 4))\n",
        "sns.heatmap(data[best_params.index].corr(), vmin=-1, vmax=1, cmap='coolwarm', annot=True)\n",
        "plt.show()"
      ]
    },
    {
      "cell_type": "code",
      "execution_count": null,
      "id": "ce62c242",
      "metadata": {
        "colab": {
          "base_uri": "https://localhost:8080/",
          "height": 297
        },
        "id": "ce62c242",
        "outputId": "49aeac30-d4e9-42a4-e682-61191b88a642"
      },
      "outputs": [
        {
          "output_type": "display_data",
          "data": {
            "text/plain": [
              "<Figure size 600x300 with 2 Axes>"
            ],
            "image/png": "[encoded data removed]"
          },
          "metadata": {}
        }
      ],
      "source": [
        "plt.figure(figsize=(6, 3))\n",
        "sns.heatmap(pd.DataFrame(data[np.append(best_params.index.values, 'Price')].corr()['Price'].sort_values(ascending=False)[1:]), vmin=-1, vmax=1, cmap='coolwarm', annot=True)\n",
        "plt.show()"
      ]
    },
    {
      "cell_type": "markdown",
      "id": "23d8bcca",
      "metadata": {
        "id": "23d8bcca"
      },
      "source": [
        "## Разделение выборки на обучающую и тестовую"
      ]
    },
    {
      "cell_type": "code",
      "execution_count": null,
      "id": "a3c68b6e",
      "metadata": {
        "id": "a3c68b6e"
      },
      "outputs": [],
      "source": [
        "y = data['Price']\n",
        "X = data[best_params.index]\n",
        "x_train, x_test, y_train, y_test = train_test_split(X, y, test_size=0.3, random_state=3)"
      ]
    },
    {
      "cell_type": "markdown",
      "id": "d613ea04",
      "metadata": {
        "id": "d613ea04"
      },
      "source": [
        "## Метрики"
      ]
    },
    {
      "cell_type": "code",
      "execution_count": null,
      "id": "bf5034e0",
      "metadata": {
        "id": "bf5034e0"
      },
      "outputs": [],
      "source": [
        "def print_metrics(y_test, y_pred):\n",
        "    print(f\"R^2: {r2_score(y_test, y_pred)}\")\n",
        "    print(f\"MSE: {mean_squared_error(y_test, y_pred)}\")\n",
        "    print(f\"MAE: {mean_absolute_error(y_test, y_pred)}\")"
      ]
    },
    {
      "cell_type": "markdown",
      "id": "8a24e11f",
      "metadata": {
        "id": "8a24e11f"
      },
      "source": [
        "## Модель №1: Случайный лес"
      ]
    },
    {
      "cell_type": "code",
      "execution_count": null,
      "id": "0cf4aad4",
      "metadata": {
        "colab": {
          "base_uri": "https://localhost:8080/"
        },
        "id": "0cf4aad4",
        "outputId": "5c936630-ef83-4489-b431-88e5cbb815ee"
      },
      "outputs": [
        {
          "output_type": "stream",
          "name": "stdout",
          "text": [
            "R^2: 0.8169695703110462\n",
            "MSE: 21.368523550280464\n",
            "MAE: 2.2272108897882124\n"
          ]
        }
      ],
      "source": [
        "print_metrics(y_test, RandomForestRegressor(random_state=17).fit(x_train, y_train).predict(x_test))"
      ]
    },
    {
      "cell_type": "markdown",
      "id": "2930e6dd",
      "metadata": {
        "id": "2930e6dd"
      },
      "source": [
        "### Подбор гиперпараметров"
      ]
    },
    {
      "cell_type": "code",
      "execution_count": null,
      "id": "c59c6083",
      "metadata": {
        "id": "c59c6083",
        "colab": {
          "base_uri": "https://localhost:8080/"
        },
        "outputId": "87be738b-1068-450f-c852-6d85c884a625"
      },
      "outputs": [
        {
          "output_type": "stream",
          "name": "stdout",
          "text": [
            "Fitting 5 folds for each of 12 candidates, totalling 60 fits\n",
            "{'criterion': 'poisson', 'max_features': 'sqrt', 'n_estimators': 200}\n"
          ]
        }
      ],
      "source": [
        "rf = RandomForestRegressor(random_state=17)\n",
        "params = {'n_estimators': [100, 10, 200], 'criterion': ['squared_error', 'poisson'],\n",
        "          'max_features': ['auto', 'sqrt']}\n",
        "grid_cv = GridSearchCV(estimator=rf, cv=5, param_grid=params, n_jobs=-1, scoring='neg_mean_absolute_error', verbose=3)\n",
        "grid_cv.fit(x_train, y_train)\n",
        "print(grid_cv.best_params_)"
      ]
    },
    {
      "cell_type": "code",
      "execution_count": null,
      "id": "f92a9c47",
      "metadata": {
        "id": "f92a9c47",
        "colab": {
          "base_uri": "https://localhost:8080/"
        },
        "outputId": "546e4e62-0d7c-47e0-ed81-dbc341bd76f5"
      },
      "outputs": [
        {
          "output_type": "stream",
          "name": "stdout",
          "text": [
            "R^2: 0.8238781895733573\n",
            "MSE: 20.561952786842397\n",
            "MAE: 2.2090528019788676\n"
          ]
        }
      ],
      "source": [
        "best_rf = grid_cv.best_estimator_\n",
        "best_rf.fit(x_train, y_train)\n",
        "y_pred_rf = best_rf.predict(x_test)\n",
        "print_metrics(y_test, y_pred_rf)"
      ]
    },
    {
      "cell_type": "markdown",
      "id": "5eebc94d",
      "metadata": {
        "id": "5eebc94d"
      },
      "source": [
        "## Модель №2: Градиентный бустинг"
      ]
    },
    {
      "cell_type": "code",
      "execution_count": null,
      "id": "6b8f838f",
      "metadata": {
        "id": "6b8f838f",
        "colab": {
          "base_uri": "https://localhost:8080/"
        },
        "outputId": "91d84b0c-e06c-4dde-f919-18967b070388"
      },
      "outputs": [
        {
          "output_type": "stream",
          "name": "stdout",
          "text": [
            "R^2: 0.7712549309952805\n",
            "MSE: 26.705637976944956\n",
            "MAE: 2.8692068306824234\n"
          ]
        }
      ],
      "source": [
        "print_metrics(y_test, GradientBoostingRegressor(random_state=17).fit(x_train, y_train).predict(x_test))"
      ]
    },
    {
      "cell_type": "markdown",
      "id": "5869a757",
      "metadata": {
        "id": "5869a757"
      },
      "source": [
        "### Подбор гиперпараметров"
      ]
    },
    {
      "cell_type": "code",
      "execution_count": null,
      "id": "c7dc424e",
      "metadata": {
        "id": "c7dc424e",
        "colab": {
          "base_uri": "https://localhost:8080/"
        },
        "outputId": "5e699458-2433-4277-fc19-807df4c8f0c9"
      },
      "outputs": [
        {
          "output_type": "stream",
          "name": "stdout",
          "text": [
            "{'criterion': 'friedman_mse', 'loss': 'huber', 'min_samples_leaf': 3, 'n_estimators': 100}\n"
          ]
        }
      ],
      "source": [
        "gb = GradientBoostingRegressor(random_state=17)\n",
        "params = {'loss': ['squared_error', 'absolute_error', 'huber'], 'n_estimators': [10, 50, 100],\n",
        "          'criterion': ['friedman_mse', 'squared_error', 'mse', 'mae'], 'min_samples_leaf': [1, 3, 5]}\n",
        "grid_cv = GridSearchCV(estimator=gb, cv=5, param_grid=params, n_jobs=-1, scoring='r2')\n",
        "grid_cv.fit(x_train, y_train)\n",
        "print(grid_cv.best_params_)"
      ]
    },
    {
      "cell_type": "code",
      "execution_count": null,
      "id": "bc482319",
      "metadata": {
        "id": "bc482319",
        "colab": {
          "base_uri": "https://localhost:8080/"
        },
        "outputId": "bdf6f965-67fd-42d3-ffa0-a0d396a071ef"
      },
      "outputs": [
        {
          "output_type": "stream",
          "name": "stdout",
          "text": [
            "R^2: 0.7590155791545975\n",
            "MSE: 28.13456363970096\n",
            "MAE: 2.8194538595000274\n"
          ]
        }
      ],
      "source": [
        "best_gb = grid_cv.best_estimator_\n",
        "best_gb.fit(x_train, y_train)\n",
        "y_pred_gb = best_gb.predict(x_test)\n",
        "print_metrics(y_test, y_pred_gb)"
      ]
    },
    {
      "cell_type": "markdown",
      "id": "IhWmIXYOc5jt",
      "metadata": {
        "id": "IhWmIXYOc5jt"
      },
      "source": [
        "## Модель №3: AdaBoost"
      ]
    },
    {
      "cell_type": "code",
      "execution_count": null,
      "id": "xHKbZkM2c5jz",
      "metadata": {
        "id": "xHKbZkM2c5jz",
        "colab": {
          "base_uri": "https://localhost:8080/"
        },
        "outputId": "e97d5dbb-68f0-451b-a4c8-6d6be4150059"
      },
      "outputs": [
        {
          "output_type": "stream",
          "name": "stdout",
          "text": [
            "R^2: 0.6345345136217306\n",
            "MSE: 42.6675382107791\n",
            "MAE: 3.9414546310869234\n"
          ]
        }
      ],
      "source": [
        "adaboost_model = AdaBoostRegressor(random_state=17)\n",
        "adaboost_model.fit(x_train, y_train)\n",
        "y_pred_adaboost = adaboost_model.predict(x_test)\n",
        "print_metrics(y_test, y_pred_adaboost)"
      ]
    },
    {
      "cell_type": "markdown",
      "id": "VQ0EY3efc5jz",
      "metadata": {
        "id": "VQ0EY3efc5jz"
      },
      "source": [
        "### Подбор гиперпараметров"
      ]
    },
    {
      "cell_type": "code",
      "execution_count": null,
      "id": "SvKAzADbc5j0",
      "metadata": {
        "id": "SvKAzADbc5j0",
        "colab": {
          "base_uri": "https://localhost:8080/"
        },
        "outputId": "e089db99-fc01-4cc9-840d-739b366cbe18"
      },
      "outputs": [
        {
          "output_type": "stream",
          "name": "stdout",
          "text": [
            "{'learning_rate': 0.01, 'n_estimators': 50}\n",
            "R^2: 0.6600450477821691\n",
            "MSE: 39.689222250345864\n",
            "MAE: 3.51556730780349\n"
          ]
        }
      ],
      "source": [
        "adaboost_params = {\n",
        "    'n_estimators': [10, 50, 100, 200],\n",
        "    'learning_rate': [0.01, 0.1, 1.0]\n",
        "}\n",
        "grid_cv_adaboost = GridSearchCV(estimator=adaboost_model, param_grid=adaboost_params, cv=5, n_jobs=-1, scoring='r2')\n",
        "grid_cv_adaboost.fit(x_train, y_train)\n",
        "print(grid_cv_adaboost.best_params_)\n",
        "\n",
        "best_adaboost_model = grid_cv_adaboost.best_estimator_\n",
        "best_adaboost_model.fit(x_train, y_train)\n",
        "y_pred_best_adaboost = best_adaboost_model.predict(x_test)\n",
        "print_metrics(y_test, y_pred_best_adaboost)"
      ]
    },
    {
      "cell_type": "markdown",
      "id": "6df6deee",
      "metadata": {
        "id": "6df6deee"
      },
      "source": [
        "## Сравнение моделей"
      ]
    },
    {
      "cell_type": "code",
      "execution_count": null,
      "id": "eec83a36",
      "metadata": {
        "id": "eec83a36",
        "colab": {
          "base_uri": "https://localhost:8080/"
        },
        "outputId": "fa96eac8-86d3-430c-9c37-d3968396b7a7"
      },
      "outputs": [
        {
          "output_type": "stream",
          "name": "stdout",
          "text": [
            "Случайный лес\n",
            "R^2: 0.8238781895733573\n",
            "MSE: 20.561952786842397\n",
            "MAE: 2.2090528019788676\n",
            "\n",
            "Градиентный бустинг\n",
            "R^2: 0.7590155791545975\n",
            "MSE: 28.13456363970096\n",
            "MAE: 2.8194538595000274\n",
            "\n",
            "Adaboost\n",
            "R^2: 0.6600450477821691\n",
            "MSE: 39.689222250345864\n",
            "MAE: 3.51556730780349\n"
          ]
        }
      ],
      "source": [
        "print(\"Случайный лес\")\n",
        "print_metrics(y_test, y_pred_rf)\n",
        "\n",
        "print(\"\\nГрадиентный бустинг\")\n",
        "print_metrics(y_test, y_pred_gb)\n",
        "\n",
        "print(\"\\nAdaboost\")\n",
        "print_metrics(y_test, y_pred_best_adaboost)"
      ]
    },
    {
      "cell_type": "markdown",
      "id": "63aa893b",
      "metadata": {
        "id": "63aa893b"
      },
      "source": [
        "**Вывод:** Все модели показали хороший результат. Лучшей по всем используемым метрикам оказалась модель случайного леса."
      ]
    }
  ],
  "metadata": {
    "colab": {
      "provenance": []
    },
    "kernelspec": {
      "display_name": "Python 3 (ipykernel)",
      "language": "python",
      "name": "python3"
    },
    "language_info": {
      "codemirror_mode": {
        "name": "ipython",
        "version": 3
      },
      "file_extension": ".py",
      "mimetype": "text/x-python",
      "name": "python",
      "nbconvert_exporter": "python",
      "pygments_lexer": "ipython3",
      "version": "3.9.7"
    }
  },
  "nbformat": 4,
  "nbformat_minor": 5
}